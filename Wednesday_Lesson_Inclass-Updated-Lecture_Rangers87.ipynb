{
 "cells": [
  {
   "cell_type": "markdown",
   "metadata": {},
   "source": [
    "# Dictionaries, Sets, & Importing Modules"
   ]
  },
  {
   "cell_type": "markdown",
   "metadata": {},
   "source": [
    "## Tasks Today:\n",
    "\n",
    "1) Dictionary <br>\n",
    " &nbsp;&nbsp;&nbsp;&nbsp; a) Declaring (key, value) <br>\n",
    " &nbsp;&nbsp;&nbsp;&nbsp; b) Accessing Values <br>\n",
    " &nbsp;&nbsp;&nbsp;&nbsp; ------ Exercise #1 - Print the eye color of each person in a double nested dict <br>\n",
    " &nbsp;&nbsp;&nbsp;&nbsp; c) Adding New Pairs <br>\n",
    " &nbsp;&nbsp;&nbsp;&nbsp; d) Modifying Values <br>\n",
    " &nbsp;&nbsp;&nbsp;&nbsp; e) Removing Key, Value Pairs <br>\n",
    " &nbsp;&nbsp;&nbsp;&nbsp; f) Looping a Dictionary <br>\n",
    " &nbsp;&nbsp;&nbsp;&nbsp; g) Looping Only Keys <br>\n",
    " &nbsp;&nbsp;&nbsp;&nbsp; h) Looping Only Values <br>\n",
    " &nbsp;&nbsp;&nbsp;&nbsp; ------ Exercise #2 - Create a Function that Prints All Key Value Pairs within a print .format()  <br>\n",
    " &nbsp;&nbsp;&nbsp;&nbsp; i) sorted() <br>\n",
    " &nbsp;&nbsp;&nbsp;&nbsp; j) Lists with Dictionaries <br>\n",
    " &nbsp;&nbsp;&nbsp;&nbsp; k) Dictionaries with Lists <br>\n",
    " &nbsp;&nbsp;&nbsp;&nbsp; l) Dictionaries with Dictionaries <br>\n",
    " &nbsp;&nbsp;&nbsp;&nbsp; ------ Exercise #3 - Write a Function that asks someone's name and address, and then stores that into a dictionary, which prints all names and addresses after they're done putting information in...  <br>\n",
    "2) Dictionaries vs. Lists (over time)<br>\n",
    "3) Set <br>\n",
    " &nbsp;&nbsp;&nbsp;&nbsp; a) Declaring <br>\n",
    " &nbsp;&nbsp;&nbsp;&nbsp; b) .add() <br>\n",
    " &nbsp;&nbsp;&nbsp;&nbsp; c) .remove() <br>\n",
    " &nbsp;&nbsp;&nbsp;&nbsp; d) .union() <br>\n",
    " &nbsp;&nbsp;&nbsp;&nbsp; e) .intersection() <br>\n",
    " &nbsp;&nbsp;&nbsp;&nbsp; f) .difference() <br>\n",
    " &nbsp;&nbsp;&nbsp;&nbsp; g) Frozen Set <br>\n",
    "4) Modules <br>\n",
    " &nbsp;&nbsp;&nbsp;&nbsp; a) Importing Entire Modules <br>\n",
    " &nbsp;&nbsp;&nbsp;&nbsp; b) Importing Methods Only <br>\n",
    " &nbsp;&nbsp;&nbsp;&nbsp; c) Using the 'as' Keyword <br>\n",
    " &nbsp;&nbsp;&nbsp;&nbsp; d) Creating a Module <br>\n",
    "5) Exercises <br>\n",
    " &nbsp;&nbsp;&nbsp;&nbsp; a) Build a Shopping Cart <br>\n",
    " &nbsp;&nbsp;&nbsp;&nbsp; b) Create Your Own Module <br>"
   ]
  },
  {
   "cell_type": "markdown",
   "metadata": {},
   "source": [
    "## Dictionary <br>\n",
    "<p>A collection of data with 'key:value' pairs. Dictionaries are ordered as of Python 3.6</p>"
   ]
  },
  {
   "cell_type": "markdown",
   "metadata": {},
   "source": [
    "##### Declaring (key, value)"
   ]
  },
  {
   "cell_type": "code",
   "execution_count": 22,
   "metadata": {},
   "outputs": [],
   "source": [
    "# keys should be unique\n",
    "# can use numbers or strings as keys\n",
    "d_1 = {}\n",
    "\n",
    "# or \n",
    "\n",
    "d_2 = dict()\n",
    "\n",
    "# or\n",
    "\n",
    "d_3 = {\n",
    "    \"Tom\": \"255 Main Street\",\n",
    "    \"Jerry\": \"256 Main Street\",\n",
    "    \"Spike\": \"257 Main Street\"\n",
    "}\n",
    "\n"
   ]
  },
  {
   "cell_type": "markdown",
   "metadata": {},
   "source": [
    "##### Accessing Values"
   ]
  },
  {
   "cell_type": "code",
   "execution_count": 5,
   "metadata": {},
   "outputs": [
    {
     "name": "stdout",
     "output_type": "stream",
     "text": [
      "256 Main Street\n",
      "This is a value of 0 for the key 0\n",
      "255 Main Street\n",
      "Lightsaber\n",
      "Pistol\n",
      "Bowcaster\n"
     ]
    }
   ],
   "source": [
    "# dict[key]\n",
    "\n",
    "print(d_3[\"Jerry\"])\n",
    "\n",
    "print(d_3[0]) # This zero is NOT an index, it's a value\n",
    "\n",
    "tom_address = d_3[\"Tom\"]\n",
    "print(tom_address)\n",
    "\n",
    "d_4 = {\n",
    "    \"Luke\": \"Lightsaber\",\n",
    "    \"Han\": \"Pistol\",\n",
    "    \"Chewbacca\": \"Bowcaster\"\n",
    "}\n",
    "\n",
    "luke_weapon = d_4[\"Luke\"]\n",
    "print(luke_weapon)\n",
    "\n",
    "print(d_4[\"Han\"])\n",
    "print(d_4[\"Chewbacca\"])"
   ]
  },
  {
   "cell_type": "markdown",
   "metadata": {},
   "source": [
    "## In-Class Exercise #1 - Print a formatted statement from the dictionary below <br>\n",
    "<p>The output should be '2018 Chevrolet Silverado'</p>"
   ]
  },
  {
   "cell_type": "code",
   "execution_count": 11,
   "metadata": {},
   "outputs": [
    {
     "name": "stdout",
     "output_type": "stream",
     "text": [
      "Last year, I bought a 2018 Chevrolet Silverado.\n"
     ]
    }
   ],
   "source": [
    "# use the dict below\n",
    "truck = {\n",
    "    \"year\": 2018,\n",
    "    'make': 'Chevrolet',\n",
    "    'model': 'Silverado'\n",
    "}\n",
    "\n",
    "year = truck[\"year\"]\n",
    "make = truck[\"make\"]\n",
    "model = truck[\"model\"]\n",
    "\n",
    "print(f\"Last year, I bought a {year} {make} {model}.\")\n",
    "\n"
   ]
  },
  {
   "cell_type": "markdown",
   "metadata": {},
   "source": [
    "##### Adding New Pairs"
   ]
  },
  {
   "cell_type": "code",
   "execution_count": 13,
   "metadata": {},
   "outputs": [
    {
     "data": {
      "text/plain": [
       "{'Luke': 'Lightsaber',\n",
       " 'Han': 'Pistol',\n",
       " 'Chewbacca': 'Bowcaster',\n",
       " 'Leia': 'E11 Carbine'}"
      ]
     },
     "execution_count": 13,
     "metadata": {},
     "output_type": "execute_result"
    }
   ],
   "source": [
    "# dict[key] = value\n",
    "\n",
    "d_4 = {\n",
    "    \"Luke\": \"Lightsaber\",\n",
    "    \"Han\": \"Pistol\",\n",
    "    \"Chewbacca\": \"Bowcaster\"\n",
    "}\n",
    "\n",
    "d_4[\"Leia\"] = \"E11 Carbine\"\n",
    "\n",
    "d_4"
   ]
  },
  {
   "cell_type": "markdown",
   "metadata": {},
   "source": [
    "##### Modifying Values"
   ]
  },
  {
   "cell_type": "code",
   "execution_count": 16,
   "metadata": {},
   "outputs": [
    {
     "name": "stdout",
     "output_type": "stream",
     "text": [
      "E11 Carbine with a strap\n"
     ]
    },
    {
     "data": {
      "text/plain": [
       "{'Luke': 'Lightsaber',\n",
       " 'Han': 'Pistol',\n",
       " 'Chewbacca': 'Bowcaster',\n",
       " 'Leia': 'E11 Carbine with a strap with a strap'}"
      ]
     },
     "execution_count": 16,
     "metadata": {},
     "output_type": "execute_result"
    }
   ],
   "source": [
    "# dict[key] = value\n",
    "\n",
    "placeholder = d_4[\"Leia\"]\n",
    "print(placeholder)\n",
    "\n",
    "# d_4[\"Leia\"] = d_4[\"Leia\"] + \" with a strap\"\n",
    "d_4"
   ]
  },
  {
   "cell_type": "markdown",
   "metadata": {},
   "source": [
    "##### Removing Key, Value Pairs"
   ]
  },
  {
   "cell_type": "code",
   "execution_count": 17,
   "metadata": {},
   "outputs": [
    {
     "data": {
      "text/plain": [
       "{'Luke': 'Lightsaber',\n",
       " 'Chewbacca': 'Bowcaster',\n",
       " 'Leia': 'E11 Carbine with a strap with a strap'}"
      ]
     },
     "execution_count": 17,
     "metadata": {},
     "output_type": "execute_result"
    }
   ],
   "source": [
    "# del dict[key]\n",
    "\n",
    "del d_4[\"Han\"]\n",
    "\n",
    "d_4"
   ]
  },
  {
   "cell_type": "markdown",
   "metadata": {},
   "source": [
    "##### Looping a Dictionary"
   ]
  },
  {
   "cell_type": "code",
   "execution_count": 23,
   "metadata": {},
   "outputs": [
    {
     "name": "stdout",
     "output_type": "stream",
     "text": [
      "Tom lives at 255 Main Street.\n",
      "Jerry lives at 256 Main Street.\n",
      "Spike lives at 257 Main Street.\n"
     ]
    }
   ],
   "source": [
    "for pet, address in d_3.items():\n",
    "    print(f\"{pet} lives at {address}.\")"
   ]
  },
  {
   "cell_type": "code",
   "execution_count": 19,
   "metadata": {},
   "outputs": [
    {
     "name": "stdout",
     "output_type": "stream",
     "text": [
      "Luke uses a Lightsaber\n",
      "Chewbacca uses a Bowcaster\n",
      "Leia uses a E11 Carbine with a strap with a strap\n"
     ]
    }
   ],
   "source": [
    "# .items()\n",
    "# a, b, c = 1, 2, 3\n",
    "\n",
    "for hero, weapon in d_4.items():\n",
    "    print(f\"{hero} uses a {weapon}\")"
   ]
  },
  {
   "cell_type": "markdown",
   "metadata": {},
   "source": [
    "##### Looping Only Keys"
   ]
  },
  {
   "cell_type": "code",
   "execution_count": 25,
   "metadata": {},
   "outputs": [
    {
     "name": "stdout",
     "output_type": "stream",
     "text": [
      "My favorite Star Wars character is Luke.\n",
      "My favorite Star Wars character is Chewbacca.\n",
      "My favorite Star Wars character is Leia.\n",
      "\n",
      "\n",
      "My pet's name is Tom.\n",
      "My pet's name is Jerry.\n",
      "My pet's name is Spike.\n"
     ]
    }
   ],
   "source": [
    "# .keys()\n",
    "\n",
    "for hero in d_4.keys():\n",
    "    print(f\"My favorite Star Wars character is {hero}.\")\n",
    "    \n",
    "print(\"\\n\")\n",
    "    \n",
    "for pet in d_3.keys():\n",
    "    print(f\"My pet's name is {pet}.\")"
   ]
  },
  {
   "cell_type": "markdown",
   "metadata": {},
   "source": [
    "##### Looping Only Values"
   ]
  },
  {
   "cell_type": "code",
   "execution_count": 26,
   "metadata": {
    "scrolled": true
   },
   "outputs": [
    {
     "name": "stdout",
     "output_type": "stream",
     "text": [
      "['255 Main Street', '256 Main Street', '257 Main Street']\n"
     ]
    }
   ],
   "source": [
    "# .values()\n",
    "\n",
    "value_list = [val for val in d_3.values()]\n",
    "print(value_list)"
   ]
  },
  {
   "cell_type": "markdown",
   "metadata": {},
   "source": [
    "## In-Class Exercise #2 - Create a Function that Prints All Key Value Pairs within a print .format() <br>\n",
    "<p><b>Output should be:</b><br>\n",
    "Max has blue eyes<br>\n",
    "Lilly has brown eyes<br>\n",
    "Barney has blue eyes<br>\n",
    "etc.\n",
    "</p>"
   ]
  },
  {
   "cell_type": "code",
   "execution_count": 47,
   "metadata": {},
   "outputs": [
    {
     "name": "stdout",
     "output_type": "stream",
     "text": [
      "Max has blue eyes.\n",
      "Barney has green eyes.\n",
      "Gideon has gold eyes.\n",
      "Miron has hazel eyes.\n"
     ]
    }
   ],
   "source": [
    "# use the dict below\n",
    "\n",
    "# def eye_color():\n",
    "people = {\n",
    "    \"Max\": \"blue\",\n",
    "    \"Barney\": \"green\",\n",
    "    \"Gideon\": \"gold\",\n",
    "    \"Miron\": \"hazel\",\n",
    "}\n",
    "for person, color in people.items():\n",
    "    print(f\"{person} has {color} eyes.\")\n",
    "\n",
    "\n",
    "\n"
   ]
  },
  {
   "cell_type": "markdown",
   "metadata": {},
   "source": [
    "##### sorted()"
   ]
  },
  {
   "cell_type": "code",
   "execution_count": 50,
   "metadata": {},
   "outputs": [
    {
     "name": "stdout",
     "output_type": "stream",
     "text": [
      "['Barney', 'Gideon', 'Max', 'Miron']\n",
      "['blue', 'gold', 'green', 'hazel']\n",
      "[('Barney', 'green'), ('Gideon', 'gold'), ('Max', 'blue'), ('Miron', 'hazel')]\n"
     ]
    }
   ],
   "source": [
    "# sorts variables in order\n",
    "# sorted(dict.values()) or dict.keys() or dict.items()\n",
    "\n",
    "print(sorted(people.keys()))\n",
    "print(sorted(people.values()))\n",
    "print(sorted(people.items()))"
   ]
  },
  {
   "cell_type": "markdown",
   "metadata": {},
   "source": [
    "##### List with Dictionaries"
   ]
  },
  {
   "cell_type": "code",
   "execution_count": 55,
   "metadata": {},
   "outputs": [
    {
     "name": "stdout",
     "output_type": "stream",
     "text": [
      "ginger\n",
      "Rage\n",
      "Gideon\n",
      "Harrow\n",
      "Ianthe\n"
     ]
    }
   ],
   "source": [
    "names = [\"Miron\", \"Hamali\", \"Neko\", {\"Gideon\": \"ginger\", \"Harrow\": \"bones\", \"Ianthe\": \"creepy\"}]\n",
    "print(names[3][\"Gideon\"])\n",
    "\n",
    "also_names = [{\"Miron\": \"sword\"}, {\"Gideon\": \"also sword\"}, {\"Hamali\": \"Rage\"}, {\"Harrow\": \"bones\"}]\n",
    "print(also_names[2][\"Hamali\"])\n",
    "\n",
    "for key in names[3].keys():\n",
    "    print(key)"
   ]
  },
  {
   "cell_type": "code",
   "execution_count": 56,
   "metadata": {},
   "outputs": [
    {
     "name": "stdout",
     "output_type": "stream",
     "text": [
      "{'Gideon': 'ginger', 'Harrow': 'bones', 'Ianthe': 'creepy', 'Corona': 'blonde'}\n",
      "['Cristina', 'Neko', 'Maena', ['Magnus', 'Taako', 'Merle']]\n"
     ]
    }
   ],
   "source": [
    "# adding to a dictionary within a list\n",
    "names[3][\"Corona\"] = \"blonde\"\n",
    "print(names[3])\n",
    "\n",
    "#appending to a list within a list\n",
    "names2 = [\"Cristina\", \"Neko\", \"Maena\", [\"Magnus\", \"Taako\"]]\n",
    "names2[3].append(\"Merle\")\n",
    "print(names2)"
   ]
  },
  {
   "cell_type": "markdown",
   "metadata": {},
   "source": [
    "##### Dictionaries with Lists"
   ]
  },
  {
   "cell_type": "code",
   "execution_count": 58,
   "metadata": {},
   "outputs": [
    {
     "name": "stdout",
     "output_type": "stream",
     "text": [
      "Nav\n",
      "54\n",
      "69\n",
      "99\n"
     ]
    }
   ],
   "source": [
    "# be careful when using numbers as keys in dictionaries, don't confuse them with indexes\n",
    "\n",
    "random_data = {\n",
    "    \"list_1\": [54, 69, 99],\n",
    "    \"2\" : [\"Nav\"]\n",
    "}\n",
    "\n",
    "print(random_data[\"2\"][0])\n",
    "\n",
    "for val in random_data[\"list_1\"]:\n",
    "    print(val)"
   ]
  },
  {
   "cell_type": "markdown",
   "metadata": {},
   "source": [
    "##### Dictionaries with Dictionaries"
   ]
  },
  {
   "cell_type": "code",
   "execution_count": 61,
   "metadata": {},
   "outputs": [
    {
     "name": "stdout",
     "output_type": "stream",
     "text": [
      "{'Ryan': {'mexican': ['Tacos', 'Tacos', 'Tacos', 'Torta'], 'noodles': ['Ramen', 'shell', 'ravioli'], 'desserts': ['pie', 'chocolate chip ice cream', 'cheesecake']}, 'Alex': {'hispanic': ['Pupusas', 'Tamales', 'Arepas'], 'italian': ['Lasagna', 'Spaghetti', 'Pizza'], 'sweets': ['Ice Cream', 'Canolis', 'Soufle']}, 'Saad': {'italian': ['pasta', 'pizza', 'seafood'], 'pizza': ['plain', 'margarita', 'pineapple', 'chicken']}, 'Beck': {'japanese': ['sushi', 'ramen', 'dumplings'], 'desserts': ['cookie dough', 'ice cream', 'cheesecake'], 'italian': ['pizza', 'pasta', 'gelato']}, 'Dylan': {'Asian': ['Pho', 'Korean Beef', 'Gyoza', 'Sushi', 'Ramen'], 'Mexican': ['Tacos', 'Poblano Peppers', 'Tamales'], 'Italian': ['Pizza', 'Spaghetti']}, 'Julia': {'italian': ['pizza', 'bolognese'], 'vietnamese': ['bhan mi', 'pho'], 'mexican': ['tacos al pastor', 'tortas']}, 'Cecilia': {'breakfast': ['pancakes', 'bacon', 'hashbrowns', 'eggs'], 'bbq': ['ribs', 'brisket', 'pulled pork', 'wings'], 'pie': ['strawberry rhubarb', 'peanut butter', 'pumpkin']}, 'Badar': {'Desert': ['Jello', 'Cookies', 'Pie'], 'Lunch': ['Turkey Sandwich', 'Pizza', 'Deli']}, 'Nick': {'Italian': ['Pizza', 'Pasta', 'Bolognese'], 'Hispanic': ['Bolon de queso', 'Chilaquiles', 'encebollado'], 'Asian': ['Ramen', 'More Ramen', 'Sushi', 'Also Ramen']}, 'Jason': {'italian': ['pizza', 'bbq', 'chinese']}, 'Chris': {'sushi': ['roll', 'sushimi', 'nigiri'], 'dessert': ['chocolate', 'brownie', 'thinmints']}}\n"
     ]
    }
   ],
   "source": [
    "# to get values, must traverse through keys\n",
    "\n",
    "\n",
    "\n",
    "food_dict = {\n",
    "    \"Ryan\": {\n",
    "    \"mexican\": [\"Tacos\", \"Tacos\", \"Tacos\", \"Torta\"],\n",
    "    \"noodles\": [\"Ramen\", \"shell\", \"ravioli\"],\n",
    "     \"desserts\": [\"pie\", \"chocolate chip ice cream\", \"cheesecake\"]   \n",
    "},\n",
    "    'Alex': {\n",
    "    'hispanic': ['Pupusas', 'Tamales', 'Arepas'],\n",
    "    'italian' : ['Lasagna', 'Spaghetti', 'Pizza'],\n",
    "    'sweets': ['Ice Cream', 'Canolis', 'Soufle']\n",
    "},\n",
    "    \"Saad\": {\n",
    "    \"italian\": [\"pasta\", \"pizza\", \"seafood\"],\n",
    "    \"pizza\": [\"plain\", \"margarita\", \"pineapple\", \"chicken\"]\n",
    "},\n",
    "    \"Beck\": {\n",
    "        \"japanese\" : [\"sushi\", \"ramen\", \"dumplings\"],\n",
    "        \"desserts\" : [\"cookie dough\", \"ice cream\", \"cheesecake\"],\n",
    "        \"italian\" : [\"pizza\", \"pasta\", \"gelato\"]\n",
    "\n",
    "    },\n",
    "    \"Dylan\":{\n",
    "        \"Asian\":[\"Pho\", \"Korean Beef\", \"Gyoza\", \"Sushi\", \"Ramen\"],\n",
    "        \"Mexican\":[\"Tacos\", \"Poblano Peppers\", \"Tamales\"],\n",
    "        \"Italian\":[\"Pizza\", \"Spaghetti\"],\n",
    "    },\n",
    "    \"Julia\": {\n",
    "    \"italian\":[\"pizza\", \"bolognese\"],\n",
    "    \"vietnamese\":[\"bhan mi\", \"pho\"],\n",
    "    \"mexican\":[\"tacos al pastor\", \"tortas\"]\n",
    "},\n",
    "    \"Cecilia\": {\n",
    "    \"breakfast\": [\"pancakes\", \"bacon\", \"hashbrowns\", \"eggs\"],\n",
    "    \"bbq\": [\"ribs\", \"brisket\", \"pulled pork\", \"wings\"],\n",
    "    \"pie\": [\"strawberry rhubarb\", \"peanut butter\", \"pumpkin\"]\n",
    "},\n",
    "    \"Badar\": {\n",
    "        \"Desert\": [\"Jello\", \"Cookies\", \"Pie\"],\n",
    "        \"Lunch\": [\"Turkey Sandwich\", \"Pizza\", \"Deli\"]\n",
    "},\n",
    "    \"Nick\":{\n",
    "        \"Italian\":[\"Pizza\", \"Pasta\", \"Bolognese\"],\n",
    "        \"Hispanic\":[\"Bolon de queso\", \"Chilaquiles\", \"encebollado\"],\n",
    "        \"Asian\":[\"Ramen\", \"More Ramen\", \"Sushi\", \"Also Ramen\"]\n",
    "},\n",
    "    \"Jason\":\n",
    "    {\"italian\": [\"pizza\",  \"bbq\",  \"chinese\"]},\n",
    "    \n",
    "     \"Chris\": {\n",
    "        \"sushi\": ['roll', 'sushimi', 'nigiri'],\n",
    "        \"dessert\": ['chocolate', 'brownie', 'thinmints']\n",
    "}\n",
    "\n",
    "}\n",
    "\n",
    "print(food_dict)"
   ]
  },
  {
   "cell_type": "code",
   "execution_count": 71,
   "metadata": {},
   "outputs": [
    {
     "name": "stdout",
     "output_type": "stream",
     "text": [
      "['pie', 'chocolate chip ice cream', 'cheesecake']\n",
      "dumplings\n",
      "\n",
      "\n",
      "pancakes\n",
      "bacon\n",
      "hashbrowns\n",
      "eggs\n"
     ]
    }
   ],
   "source": [
    "ryan_desserts = food_dict[\"Ryan\"][\"desserts\"]\n",
    "print(ryan_desserts)\n",
    "\n",
    "beck_japanese = food_dict[\"Beck\"][\"japanese\"]\n",
    "print(beck_japanese[2])\n",
    "\n",
    "print(\"\\n\")\n",
    "cecilia_breakfast = food_dict[\"Cecilia\"][\"breakfast\"]\n",
    "for food in cecilia_breakfast:\n",
    "    print(food)"
   ]
  },
  {
   "cell_type": "code",
   "execution_count": 77,
   "metadata": {},
   "outputs": [
    {
     "name": "stdout",
     "output_type": "stream",
     "text": [
      "Beck's favorite japanese foods are dumplings, sushi, ramen.\n"
     ]
    }
   ],
   "source": [
    "dumplings = food_dict[\"Beck\"][\"japanese\"][2]\n",
    "sushi = food_dict[\"Beck\"][\"japanese\"][0]\n",
    "ramen = food_dict[\"Beck\"][\"japanese\"][1]\n",
    "print(f\"Beck's favorite japanese foods are {dumplings}, {sushi}, {ramen}.\")"
   ]
  },
  {
   "cell_type": "markdown",
   "metadata": {},
   "source": [
    "## Dictionaries vs. Lists (over time) Example of RUNTIME\n",
    "### When inputting values in a Dictionary vs List"
   ]
  },
  {
   "cell_type": "code",
   "execution_count": null,
   "metadata": {},
   "outputs": [],
   "source": []
  },
  {
   "cell_type": "code",
   "execution_count": null,
   "metadata": {},
   "outputs": [],
   "source": []
  },
  {
   "cell_type": "markdown",
   "metadata": {},
   "source": [
    "## Exercise #3 - Write a Function that asks someone's name and address, and then stores that into a dictionary, and continues to do so until they choose to 'quit'. Once they quit, the program should print all names and addresses. <br>\n",
    "<p>\n",
    "<b>Proper steps:</b><br>\n",
    "step 1: write a function that takes in information and stores it in a dictionary<br>\n",
    "step 2: define an empty dictionary to work with<br>\n",
    "step 3: create our loop, which asks the user for information until they quit<br>\n",
    "step 4: ask for the information, and store it into variables<br>\n",
    "step 5: check if the user types quit<br>\n",
    "step 5a: print out all information<br>\n",
    "step 5b: break out of the loop<br>\n",
    "step 6: if they didn't quit, add the information to the dictionary<br>\n",
    "step 7: invoke the function by calling it\n",
    "</p>"
   ]
  },
  {
   "cell_type": "code",
   "execution_count": 80,
   "metadata": {},
   "outputs": [
    {
     "name": "stdout",
     "output_type": "stream",
     "text": [
      "Enter a name or say 'quit' to quit: BEck\n",
      "Enter your address or say 'quit' to quit: 123 main\n",
      "Enter a name or say 'quit' to quit: ryan\n",
      "Enter your address or say 'quit' to quit: 124 main\n",
      "Enter a name or say 'quit' to quit: quit\n",
      "Enter your address or say 'quit' to quit: quit\n",
      "The address for BEck is 123 main.\n"
     ]
    },
    {
     "ename": "KeyboardInterrupt",
     "evalue": "Interrupted by user",
     "output_type": "error",
     "traceback": [
      "\u001b[1;31m---------------------------------------------------------------------------\u001b[0m",
      "\u001b[1;31mKeyboardInterrupt\u001b[0m                         Traceback (most recent call last)",
      "Input \u001b[1;32mIn [80]\u001b[0m, in \u001b[0;36m<cell line: 24>\u001b[1;34m()\u001b[0m\n\u001b[0;32m     20\u001b[0m                 \u001b[38;5;28;01mbreak\u001b[39;00m \u001b[38;5;66;03m#step 5b\u001b[39;00m\n\u001b[0;32m     22\u001b[0m         d[name] \u001b[38;5;241m=\u001b[39m address\n\u001b[1;32m---> 24\u001b[0m \u001b[43mstoreInfo\u001b[49m\u001b[43m(\u001b[49m\u001b[43m)\u001b[49m\n",
      "Input \u001b[1;32mIn [80]\u001b[0m, in \u001b[0;36mstoreInfo\u001b[1;34m()\u001b[0m\n\u001b[0;32m      8\u001b[0m \u001b[38;5;66;03m#step 3\u001b[39;00m\n\u001b[0;32m      9\u001b[0m \u001b[38;5;28;01mwhile\u001b[39;00m \u001b[38;5;28;01mTrue\u001b[39;00m:\n\u001b[0;32m     10\u001b[0m     \u001b[38;5;66;03m# step 4\u001b[39;00m\n\u001b[1;32m---> 11\u001b[0m     name \u001b[38;5;241m=\u001b[39m \u001b[38;5;28;43minput\u001b[39;49m\u001b[43m(\u001b[49m\u001b[38;5;124;43m\"\u001b[39;49m\u001b[38;5;124;43mEnter a name or say \u001b[39;49m\u001b[38;5;124;43m'\u001b[39;49m\u001b[38;5;124;43mquit\u001b[39;49m\u001b[38;5;124;43m'\u001b[39;49m\u001b[38;5;124;43m to quit: \u001b[39;49m\u001b[38;5;124;43m\"\u001b[39;49m\u001b[43m)\u001b[49m\n\u001b[0;32m     12\u001b[0m     address \u001b[38;5;241m=\u001b[39m \u001b[38;5;28minput\u001b[39m(\u001b[38;5;124m\"\u001b[39m\u001b[38;5;124mEnter your address or say \u001b[39m\u001b[38;5;124m'\u001b[39m\u001b[38;5;124mquit\u001b[39m\u001b[38;5;124m'\u001b[39m\u001b[38;5;124m to quit: \u001b[39m\u001b[38;5;124m\"\u001b[39m)\n\u001b[0;32m     15\u001b[0m     \u001b[38;5;66;03m# step 5\u001b[39;00m\n",
      "File \u001b[1;32m~\\anaconda3\\lib\\site-packages\\ipykernel\\kernelbase.py:1075\u001b[0m, in \u001b[0;36mKernel.raw_input\u001b[1;34m(self, prompt)\u001b[0m\n\u001b[0;32m   1071\u001b[0m \u001b[38;5;28;01mif\u001b[39;00m \u001b[38;5;129;01mnot\u001b[39;00m \u001b[38;5;28mself\u001b[39m\u001b[38;5;241m.\u001b[39m_allow_stdin:\n\u001b[0;32m   1072\u001b[0m     \u001b[38;5;28;01mraise\u001b[39;00m StdinNotImplementedError(\n\u001b[0;32m   1073\u001b[0m         \u001b[38;5;124m\"\u001b[39m\u001b[38;5;124mraw_input was called, but this frontend does not support input requests.\u001b[39m\u001b[38;5;124m\"\u001b[39m\n\u001b[0;32m   1074\u001b[0m     )\n\u001b[1;32m-> 1075\u001b[0m \u001b[38;5;28;01mreturn\u001b[39;00m \u001b[38;5;28;43mself\u001b[39;49m\u001b[38;5;241;43m.\u001b[39;49m\u001b[43m_input_request\u001b[49m\u001b[43m(\u001b[49m\n\u001b[0;32m   1076\u001b[0m \u001b[43m    \u001b[49m\u001b[38;5;28;43mstr\u001b[39;49m\u001b[43m(\u001b[49m\u001b[43mprompt\u001b[49m\u001b[43m)\u001b[49m\u001b[43m,\u001b[49m\n\u001b[0;32m   1077\u001b[0m \u001b[43m    \u001b[49m\u001b[38;5;28;43mself\u001b[39;49m\u001b[38;5;241;43m.\u001b[39;49m\u001b[43m_parent_ident\u001b[49m\u001b[43m[\u001b[49m\u001b[38;5;124;43m\"\u001b[39;49m\u001b[38;5;124;43mshell\u001b[39;49m\u001b[38;5;124;43m\"\u001b[39;49m\u001b[43m]\u001b[49m\u001b[43m,\u001b[49m\n\u001b[0;32m   1078\u001b[0m \u001b[43m    \u001b[49m\u001b[38;5;28;43mself\u001b[39;49m\u001b[38;5;241;43m.\u001b[39;49m\u001b[43mget_parent\u001b[49m\u001b[43m(\u001b[49m\u001b[38;5;124;43m\"\u001b[39;49m\u001b[38;5;124;43mshell\u001b[39;49m\u001b[38;5;124;43m\"\u001b[39;49m\u001b[43m)\u001b[49m\u001b[43m,\u001b[49m\n\u001b[0;32m   1079\u001b[0m \u001b[43m    \u001b[49m\u001b[43mpassword\u001b[49m\u001b[38;5;241;43m=\u001b[39;49m\u001b[38;5;28;43;01mFalse\u001b[39;49;00m\u001b[43m,\u001b[49m\n\u001b[0;32m   1080\u001b[0m \u001b[43m\u001b[49m\u001b[43m)\u001b[49m\n",
      "File \u001b[1;32m~\\anaconda3\\lib\\site-packages\\ipykernel\\kernelbase.py:1120\u001b[0m, in \u001b[0;36mKernel._input_request\u001b[1;34m(self, prompt, ident, parent, password)\u001b[0m\n\u001b[0;32m   1117\u001b[0m             \u001b[38;5;28;01mbreak\u001b[39;00m\n\u001b[0;32m   1118\u001b[0m \u001b[38;5;28;01mexcept\u001b[39;00m \u001b[38;5;167;01mKeyboardInterrupt\u001b[39;00m:\n\u001b[0;32m   1119\u001b[0m     \u001b[38;5;66;03m# re-raise KeyboardInterrupt, to truncate traceback\u001b[39;00m\n\u001b[1;32m-> 1120\u001b[0m     \u001b[38;5;28;01mraise\u001b[39;00m \u001b[38;5;167;01mKeyboardInterrupt\u001b[39;00m(\u001b[38;5;124m\"\u001b[39m\u001b[38;5;124mInterrupted by user\u001b[39m\u001b[38;5;124m\"\u001b[39m) \u001b[38;5;28;01mfrom\u001b[39;00m \u001b[38;5;28mNone\u001b[39m\n\u001b[0;32m   1121\u001b[0m \u001b[38;5;28;01mexcept\u001b[39;00m \u001b[38;5;167;01mException\u001b[39;00m:\n\u001b[0;32m   1122\u001b[0m     \u001b[38;5;28mself\u001b[39m\u001b[38;5;241m.\u001b[39mlog\u001b[38;5;241m.\u001b[39mwarning(\u001b[38;5;124m\"\u001b[39m\u001b[38;5;124mInvalid Message:\u001b[39m\u001b[38;5;124m\"\u001b[39m, exc_info\u001b[38;5;241m=\u001b[39m\u001b[38;5;28;01mTrue\u001b[39;00m)\n",
      "\u001b[1;31mKeyboardInterrupt\u001b[0m: Interrupted by user"
     ]
    }
   ],
   "source": [
    "from IPython.display import clear_output\n",
    "\n",
    "# Step 1\n",
    "def storeInfo():\n",
    "    #step 2\n",
    "    d = {}\n",
    "    \n",
    "    #step 3\n",
    "    while True:\n",
    "        # step 4\n",
    "        name = input(\"Enter a name or say 'quit' to quit: \")\n",
    "        address = input(\"Enter your address or say 'quit' to quit: \")\n",
    "        \n",
    "            \n",
    "        # step 5\n",
    "        if name.lower() == \"quit\" or address.lower() == \"quit\":\n",
    "            # step 5a\n",
    "            for key, value in d.items():\n",
    "                print(f\"The address for {key} is {value}.\")\n",
    "                break #step 5b\n",
    "                \n",
    "        d[name] = address\n",
    "        \n",
    "storeInfo()\n",
    "        \n",
    "        "
   ]
  },
  {
   "cell_type": "markdown",
   "metadata": {},
   "source": [
    "## Set <br>\n",
    "<p>A Set is an unordered collection data type that is iterable (loop), mutable, and has no duplicate elements.<br>Major advantage is that it is highly optimized in checking if something is in the set, as opposed to checking if something is in a list.</p>"
   ]
  },
  {
   "cell_type": "markdown",
   "metadata": {},
   "source": [
    "##### Declaring"
   ]
  },
  {
   "cell_type": "code",
   "execution_count": 82,
   "metadata": {},
   "outputs": [
    {
     "name": "stdout",
     "output_type": "stream",
     "text": [
      "{1, 2, 4, 5, 8}\n",
      "5\n"
     ]
    }
   ],
   "source": [
    "# set() or {}\n",
    "# no order {3, 2, 1} outputs as {1, 2, 3}\n",
    "\n",
    "nums = {4, 1, 8, 5, 2, 4, 4, 4}\n",
    "print(nums)\n",
    "\n",
    "print(len(nums)) # Does not count duplicates"
   ]
  },
  {
   "cell_type": "code",
   "execution_count": 83,
   "metadata": {},
   "outputs": [
    {
     "name": "stdout",
     "output_type": "stream",
     "text": [
      "{1, 2, 3, 4, 5, 6, 7, 10, 20}\n"
     ]
    }
   ],
   "source": [
    "another_set = {1, 5, 2, 4, 10, 20, 5, 2, 6, 6, 7, 3}\n",
    "print(another_set)"
   ]
  },
  {
   "cell_type": "code",
   "execution_count": 84,
   "metadata": {},
   "outputs": [
    {
     "name": "stdout",
     "output_type": "stream",
     "text": [
      "{'Alex', 'Julia', 'Beck', 'Ryan'}\n"
     ]
    }
   ],
   "source": [
    "our_str_set = {\"Ryan\",\"Alex\", \"Beck\", \"Julia\", \"Julia\"}\n",
    "print(our_str_set)"
   ]
  },
  {
   "cell_type": "markdown",
   "metadata": {},
   "source": [
    "##### .add()"
   ]
  },
  {
   "cell_type": "code",
   "execution_count": 86,
   "metadata": {},
   "outputs": [
    {
     "name": "stdout",
     "output_type": "stream",
     "text": [
      "{1, 2, 4, 5, 22, 8}\n",
      "{1, 2, 4, 5, 22, 8, 24}\n"
     ]
    }
   ],
   "source": [
    "# set.add()\n",
    "nums = {4, 1, 8, 5, 2, 4, 4, 4}\n",
    "nums.add(22)\n",
    "print(nums)\n",
    "nums.add(24)\n",
    "print(nums)"
   ]
  },
  {
   "cell_type": "markdown",
   "metadata": {},
   "source": [
    "##### .remove()"
   ]
  },
  {
   "cell_type": "code",
   "execution_count": 87,
   "metadata": {},
   "outputs": [
    {
     "name": "stdout",
     "output_type": "stream",
     "text": [
      "{1, 2, 4, 5, 8, 24}\n"
     ]
    }
   ],
   "source": [
    "# removes by value\n",
    "# set.remove()\n",
    "# nums.remove(56)\n",
    "nums.remove(22)\n",
    "print(nums)"
   ]
  },
  {
   "cell_type": "markdown",
   "metadata": {},
   "source": [
    "##### .union() "
   ]
  },
  {
   "cell_type": "code",
   "execution_count": 90,
   "metadata": {},
   "outputs": [
    {
     "name": "stdout",
     "output_type": "stream",
     "text": [
      "{1, 2, 3, 4, 5, 6}\n",
      "{1, 2, 3, 4, 5, 6}\n"
     ]
    }
   ],
   "source": [
    "# Returns a union of two sets, can also use '|' or set.union(set)\n",
    "# joins all numbers, gets rid of duplicates\n",
    "\n",
    "s1 = {1, 2, 3, 4}\n",
    "s2 = {3, 4, 5, 6}\n",
    "\n",
    "s3 = s1.union(s2)\n",
    "print(s3)\n",
    "\n",
    "# or\n",
    "\n",
    "s4 = s1 | s2\n",
    "print(s4)"
   ]
  },
  {
   "cell_type": "markdown",
   "metadata": {},
   "source": [
    "##### .intersection()"
   ]
  },
  {
   "cell_type": "code",
   "execution_count": 93,
   "metadata": {},
   "outputs": [
    {
     "name": "stdout",
     "output_type": "stream",
     "text": [
      "{3, 4}\n",
      "{3, 4}\n"
     ]
    }
   ],
   "source": [
    "# Returns an intersection of two sets, can also use '&'\n",
    "# only takes similar elements from both sets\n",
    "\n",
    "s5 = s1.intersection(s2)\n",
    "print(s5)\n",
    "\n",
    "# or\n",
    "\n",
    "s6 = s1 & s2\n",
    "print(s6)"
   ]
  },
  {
   "cell_type": "markdown",
   "metadata": {},
   "source": [
    "##### .difference()"
   ]
  },
  {
   "cell_type": "code",
   "execution_count": 95,
   "metadata": {},
   "outputs": [
    {
     "name": "stdout",
     "output_type": "stream",
     "text": [
      "{1, 2}\n",
      "{5, 6}\n"
     ]
    }
   ],
   "source": [
    "# Returns a set containing all the elements of invoking set that are not in the second set, can also use '-'\n",
    "# only takes values from the first set that are not in the second set\n",
    "# order matters\n",
    "\n",
    "s7 = s1.difference(s2) #What do I have in s1 that is not in s2\n",
    "print(s7)\n",
    "\n",
    "#or\n",
    "\n",
    "s8 = s2 - s1 #What do I have in s2 that is not in s1\n",
    "print(s8)"
   ]
  },
  {
   "cell_type": "markdown",
   "metadata": {},
   "source": [
    "##### .clear()"
   ]
  },
  {
   "cell_type": "code",
   "execution_count": 97,
   "metadata": {},
   "outputs": [
    {
     "name": "stdout",
     "output_type": "stream",
     "text": [
      "set()\n"
     ]
    }
   ],
   "source": [
    "# Empties the whole set\n",
    "# set.clear()\n",
    "\n",
    "s2.clear()\n",
    "print(s2)"
   ]
  },
  {
   "cell_type": "markdown",
   "metadata": {},
   "source": [
    "##### Frozenset <br>\n",
    "<p>Frozen sets are immutable objects that only support methods and operators that produce a result without affecting the frozen set or sets to which they are applied.</p><br><b>Unique & Immutable</b>"
   ]
  },
  {
   "cell_type": "code",
   "execution_count": 98,
   "metadata": {},
   "outputs": [
    {
     "name": "stdout",
     "output_type": "stream",
     "text": [
      "frozenset({1, 2, 3, 4, 5, 6})\n"
     ]
    },
    {
     "ename": "AttributeError",
     "evalue": "'frozenset' object has no attribute 'add'",
     "output_type": "error",
     "traceback": [
      "\u001b[1;31m---------------------------------------------------------------------------\u001b[0m",
      "\u001b[1;31mAttributeError\u001b[0m                            Traceback (most recent call last)",
      "Input \u001b[1;32mIn [98]\u001b[0m, in \u001b[0;36m<cell line: 5>\u001b[1;34m()\u001b[0m\n\u001b[0;32m      2\u001b[0m my_frozen_set \u001b[38;5;241m=\u001b[39m \u001b[38;5;28mfrozenset\u001b[39m(s3)\n\u001b[0;32m      4\u001b[0m \u001b[38;5;28mprint\u001b[39m(my_frozen_set)\n\u001b[1;32m----> 5\u001b[0m \u001b[43mmy_frozen_set\u001b[49m\u001b[38;5;241;43m.\u001b[39;49m\u001b[43madd\u001b[49m(\u001b[38;5;241m22\u001b[39m)\n",
      "\u001b[1;31mAttributeError\u001b[0m: 'frozenset' object has no attribute 'add'"
     ]
    }
   ],
   "source": [
    "# frozenset([])\n",
    "my_frozen_set = frozenset(s3)\n",
    "\n",
    "print(my_frozen_set)\n",
    "my_frozen_set.add(22)"
   ]
  },
  {
   "cell_type": "markdown",
   "metadata": {},
   "source": [
    "## Modules"
   ]
  },
  {
   "cell_type": "markdown",
   "metadata": {},
   "source": [
    "##### Importing Entire Modules"
   ]
  },
  {
   "cell_type": "code",
   "execution_count": 99,
   "metadata": {},
   "outputs": [
    {
     "name": "stdout",
     "output_type": "stream",
     "text": [
      "3.141592653589793\n",
      "4\n"
     ]
    }
   ],
   "source": [
    "# import \n",
    "# or \n",
    "# from 'xxx' import *\n",
    "\n",
    "import math\n",
    "\n",
    "print(math.pi)\n",
    "\n",
    "print(math.ceil(math.pi))"
   ]
  },
  {
   "cell_type": "markdown",
   "metadata": {},
   "source": [
    "##### Importing Methods Only"
   ]
  },
  {
   "cell_type": "code",
   "execution_count": 100,
   "metadata": {},
   "outputs": [
    {
     "name": "stdout",
     "output_type": "stream",
     "text": [
      "3\n"
     ]
    }
   ],
   "source": [
    "# from 'xxx' import 'xxx'\n",
    "# from math import floor\n",
    "\n",
    "from math import floor, pi\n",
    "print(floor(pi))"
   ]
  },
  {
   "cell_type": "markdown",
   "metadata": {},
   "source": [
    "##### Using the 'as' Keyword"
   ]
  },
  {
   "cell_type": "code",
   "execution_count": 101,
   "metadata": {},
   "outputs": [
    {
     "name": "stdout",
     "output_type": "stream",
     "text": [
      "3\n"
     ]
    }
   ],
   "source": [
    "# from 'xxx' import 'xxx' as 'xxx' or import 'xxx' as 'xxx'\n",
    "# from math import floor as f\n",
    "\n",
    "from math import floor as f, pi as p\n",
    "\n",
    "print(f(p))"
   ]
  },
  {
   "cell_type": "markdown",
   "metadata": {},
   "source": [
    "##### Creating a Module"
   ]
  },
  {
   "cell_type": "code",
   "execution_count": null,
   "metadata": {},
   "outputs": [],
   "source": [
    "from module import printName as pn\n",
    "\n",
    "from files.module import printName as cheesecake\n",
    "\n",
    "cheesecake(\"Terrell\")"
   ]
  },
  {
   "cell_type": "markdown",
   "metadata": {},
   "source": [
    "# Exercises"
   ]
  },
  {
   "cell_type": "markdown",
   "metadata": {},
   "source": [
    "### 1) Build a Shopping Cart <br>\n",
    "<p><b>You can use either lists or dictionaries. The program should have the following capabilities:</b><br><br>\n",
    "1) Takes in input <br>\n",
    "2) Stores user input into a dictionary or list <br>\n",
    "3) The User can add or delete items <br>\n",
    "4) The User can see current shopping list <br>\n",
    "5) The program Loops until user 'quits' <br>\n",
    "6) Upon quiting the program, print out all items in the user's list <br>\n",
    "</p>"
   ]
  },
  {
   "cell_type": "code",
   "execution_count": 12,
   "metadata": {},
   "outputs": [
    {
     "name": "stdout",
     "output_type": "stream",
     "text": [
      "Do you want to: Show/Add/Remove/Quit? add\n",
      "What would you like to add? cheetos\n",
      "Do you want to: Show/Add/Remove/Quit? add\n",
      "What would you like to add? water\n",
      "Do you want to: Show/Add/Remove/Quit? add\n",
      "What would you like to add? coke\n",
      "Do you want to: Show/Add/Remove/Quit? bye\n",
      "That is not one of the options, goose.\n",
      "Do you want to: Show/Add/Remove/Quit? show\n",
      "cheetos\n",
      "water\n",
      "coke\n",
      "Do you want to: Show/Add/Remove/Quit? remove\n",
      "cheetos\n",
      "water\n",
      "coke\n",
      "What would you like to remove? cheetos\n",
      "Do you want to: Show/Add/Remove/Quit? quit\n",
      "water\n",
      "coke\n"
     ]
    }
   ],
   "source": [
    "def shoppingcart():\n",
    "    d = []\n",
    "    \n",
    "    while True:\n",
    "        options = input(\"Do you want to: Show/Add/Remove/Quit? \")\n",
    "        if options.lower() == \"show\":\n",
    "            for item in d:\n",
    "                print(item)\n",
    "        elif options.lower() == \"add\":\n",
    "            new = input(\"What would you like to add? \")\n",
    "            d.append(new)\n",
    "        elif options.lower() == \"remove\":\n",
    "            for item in d:\n",
    "                print(item)\n",
    "            remove = input(\"What would you like to remove? \")\n",
    "            d.remove(remove)\n",
    "        elif options.lower() == \"quit\":\n",
    "            for item in d:\n",
    "                    print(item)\n",
    "            break\n",
    "        else:\n",
    "            print(\"That is not one of the options, goose.\")\n",
    "            \n",
    "shoppingcart()"
   ]
  },
  {
   "cell_type": "markdown",
   "metadata": {},
   "source": [
    "### 2) Create a Module in VS Code and Import It into jupyter notebook <br>\n",
    "<p><b>Module should have the following capabilities:</b><br><br>\n",
    "1) Has a function to calculate the square footage of a house <br>\n",
    "    <b>Reminder of Formula: Length X Width == Area<br>\n",
    "        <hr>\n",
    "2) Has a function to calculate the circumference of a circle <br><br>\n",
    "<b>Program in Jupyter Notebook should take in user input and use imported functions to calculate a circle's circumference or a houses square footage</b>\n",
    "</p>"
   ]
  },
  {
   "cell_type": "code",
   "execution_count": 11,
   "metadata": {},
   "outputs": [
    {
     "ename": "ImportError",
     "evalue": "cannot import name 'sq_foot' from 'measure' (C:\\Users\\hanna\\OneDrive\\Documents\\Coding Temple\\rangers_97\\week_2\\homework\\day_3\\measure.py)",
     "output_type": "error",
     "traceback": [
      "\u001b[1;31m---------------------------------------------------------------------------\u001b[0m",
      "\u001b[1;31mImportError\u001b[0m                               Traceback (most recent call last)",
      "Input \u001b[1;32mIn [11]\u001b[0m, in \u001b[0;36m<cell line: 1>\u001b[1;34m()\u001b[0m\n\u001b[1;32m----> 1\u001b[0m \u001b[38;5;28;01mfrom\u001b[39;00m \u001b[38;5;21;01mmeasure\u001b[39;00m \u001b[38;5;28;01mimport\u001b[39;00m sq_foot\n",
      "\u001b[1;31mImportError\u001b[0m: cannot import name 'sq_foot' from 'measure' (C:\\Users\\hanna\\OneDrive\\Documents\\Coding Temple\\rangers_97\\week_2\\homework\\day_3\\measure.py)"
     ]
    }
   ],
   "source": [
    "from measure import sq_foot"
   ]
  }
 ],
 "metadata": {
  "kernelspec": {
   "display_name": "Python 3 (ipykernel)",
   "language": "python",
   "name": "python3"
  },
  "language_info": {
   "codemirror_mode": {
    "name": "ipython",
    "version": 3
   },
   "file_extension": ".py",
   "mimetype": "text/x-python",
   "name": "python",
   "nbconvert_exporter": "python",
   "pygments_lexer": "ipython3",
   "version": "3.9.12"
  }
 },
 "nbformat": 4,
 "nbformat_minor": 2
}
